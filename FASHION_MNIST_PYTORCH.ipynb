{
  "nbformat": 4,
  "nbformat_minor": 0,
  "metadata": {
    "colab": {
      "name": "FASHION_MNIST_PYTORCH.ipynb",
      "provenance": [],
      "authorship_tag": "ABX9TyMXK7HaJk1pLb9xKRR2KlyY",
      "include_colab_link": true
    },
    "kernelspec": {
      "name": "python3",
      "display_name": "Python 3"
    }
  },
  "cells": [
    {
      "cell_type": "markdown",
      "metadata": {
        "id": "view-in-github",
        "colab_type": "text"
      },
      "source": [
        "<a href=\"https://colab.research.google.com/github/wakharemadhukar/projects/blob/master/FASHION_MNIST_PYTORCH.ipynb\" target=\"_parent\"><img src=\"https://colab.research.google.com/assets/colab-badge.svg\" alt=\"Open In Colab\"/></a>"
      ]
    },
    {
      "cell_type": "code",
      "metadata": {
        "id": "c21YX0xt3-jk"
      },
      "source": [
        "import numpy as np\r\n",
        "import pandas as pd\r\n",
        "import matplotlib.pyplot as plt\r\n",
        "\r\n",
        "import torch\r\n",
        "import torch.nn as nn\r\n",
        "from torch.autograd import Variable\r\n",
        "\r\n",
        "import torchvision\r\n",
        "import torchvision.transforms as transforms\r\n",
        "from torch.utils.data import Dataset, DataLoader\r\n",
        "from sklearn.metrics import confusion_matrix"
      ],
      "execution_count": null,
      "outputs": []
    },
    {
      "cell_type": "code",
      "metadata": {
        "id": "uud7DPExDKJ0"
      },
      "source": [
        "class FashionDataset(Dataset):\r\n",
        "    \"\"\"User defined class to build a datset using Pytorch class Dataset.\"\"\"\r\n",
        "    \r\n",
        "    def __init__(self, data, transform = None):\r\n",
        "        \"\"\"Method to initilaize variables.\"\"\" \r\n",
        "        self.fashion_MNIST = list(data.values)\r\n",
        "        self.transform = transform\r\n",
        "        \r\n",
        "        label = []\r\n",
        "        image = []\r\n",
        "        \r\n",
        "        for i in self.fashion_MNIST:\r\n",
        "             # first column is of labels.\r\n",
        "            label.append(i[0])\r\n",
        "            image.append(i[1:])\r\n",
        "        self.labels = np.asarray(label)\r\n",
        "        # Dimension of Images = 28 * 28 * 1. where height = width = 28 and color_channels = 1.\r\n",
        "        self.images = np.asarray(image).reshape(-1, 28, 28, 1).astype('float32')\r\n",
        "\r\n",
        "    def __getitem__(self, index):\r\n",
        "        label = self.labels[index]\r\n",
        "        image = self.images[index]\r\n",
        "        \r\n",
        "        if self.transform is not None:\r\n",
        "            image = self.transform(image)\r\n",
        "\r\n",
        "        return image, label\r\n",
        "\r\n",
        "    def __len__(self):\r\n",
        "        return len(self.images)"
      ],
      "execution_count": null,
      "outputs": []
    },
    {
      "cell_type": "code",
      "metadata": {
        "id": "jp5uJEZMDdE6"
      },
      "source": [
        "train_set = torchvision.datasets.FashionMNIST(\"./data\", download=True, transform=\r\n",
        "                                                transforms.Compose([transforms.ToTensor()]))\r\n",
        "test_set = torchvision.datasets.FashionMNIST(\"./data\", download=True, train=False, transform=\r\n",
        "                                               transforms.Compose([transforms.ToTensor()]))"
      ],
      "execution_count": null,
      "outputs": []
    },
    {
      "cell_type": "code",
      "metadata": {
        "id": "p8RWuArvDmSD"
      },
      "source": [
        "train_loader = torch.utils.data.DataLoader(train_set, \r\n",
        "                                           batch_size=100)\r\n",
        "test_loader = torch.utils.data.DataLoader(test_set,\r\n",
        "                                          batch_size=100)"
      ],
      "execution_count": null,
      "outputs": []
    },
    {
      "cell_type": "code",
      "metadata": {
        "id": "eblfU67QDp1w"
      },
      "source": [
        "def output_label(label):\r\n",
        "    output_mapping = {\r\n",
        "                 0: \"T-shirt/Top\",\r\n",
        "                 1: \"Trouser\",\r\n",
        "                 2: \"Pullover\",\r\n",
        "                 3: \"Dress\",\r\n",
        "                 4: \"Coat\", \r\n",
        "                 5: \"Sandal\", \r\n",
        "                 6: \"Shirt\",\r\n",
        "                 7: \"Sneaker\",\r\n",
        "                 8: \"Bag\",\r\n",
        "                 9: \"Ankle Boot\"\r\n",
        "                 }\r\n",
        "    input = (label.item() if type(label) == torch.Tensor else label)\r\n",
        "    return output_mapping[input]"
      ],
      "execution_count": null,
      "outputs": []
    },
    {
      "cell_type": "code",
      "metadata": {
        "colab": {
          "base_uri": "https://localhost:8080/"
        },
        "id": "xPLRw8k5DvFR",
        "outputId": "1beaaaa1-fb48-4ec6-9e80-ae89922c5fe6"
      },
      "source": [
        "a = next(iter(train_loader))\r\n",
        "a[0].size()"
      ],
      "execution_count": null,
      "outputs": [
        {
          "output_type": "execute_result",
          "data": {
            "text/plain": [
              "torch.Size([100, 1, 28, 28])"
            ]
          },
          "metadata": {
            "tags": []
          },
          "execution_count": 41
        }
      ]
    },
    {
      "cell_type": "code",
      "metadata": {
        "colab": {
          "base_uri": "https://localhost:8080/"
        },
        "id": "yCCwaPgND0VD",
        "outputId": "af0b880a-7b1d-4d5b-a6c9-cb05f842429d"
      },
      "source": [
        "len(train_set)"
      ],
      "execution_count": null,
      "outputs": [
        {
          "output_type": "execute_result",
          "data": {
            "text/plain": [
              "60000"
            ]
          },
          "metadata": {
            "tags": []
          },
          "execution_count": 42
        }
      ]
    },
    {
      "cell_type": "code",
      "metadata": {
        "colab": {
          "base_uri": "https://localhost:8080/",
          "height": 282
        },
        "id": "_L4PeEZUD8ZU",
        "outputId": "7acd91f2-139c-423f-e8ff-617ad3ccfd21"
      },
      "source": [
        "image, label = next(iter(train_set))\r\n",
        "plt.imshow(image.squeeze(), cmap=\"gray\")\r\n",
        "print(label)"
      ],
      "execution_count": null,
      "outputs": [
        {
          "output_type": "stream",
          "text": [
            "9\n"
          ],
          "name": "stdout"
        },
        {
          "output_type": "display_data",
          "data": {
            "image/png": "[encoded data removed]",
            "text/plain": [
              "<Figure size 432x288 with 1 Axes>"
            ]
          },
          "metadata": {
            "tags": [],
            "needs_background": "light"
          }
        }
      ]
    },
    {
      "cell_type": "code",
      "metadata": {
        "colab": {
          "base_uri": "https://localhost:8080/"
        },
        "id": "2Sb-iZ2DEAKL",
        "outputId": "9ace9d0b-1b90-4c05-9767-85ab83d7d3f4"
      },
      "source": [
        "\r\n",
        "demo_loader = torch.utils.data.DataLoader(train_set, batch_size=10)\r\n",
        "\r\n",
        "batch = next(iter(demo_loader))\r\n",
        "images, labels = batch\r\n",
        "print(type(images), type(labels))\r\n",
        "print(images.shape, labels.shape)"
      ],
      "execution_count": null,
      "outputs": [
        {
          "output_type": "stream",
          "text": [
            "<class 'torch.Tensor'> <class 'torch.Tensor'>\n",
            "torch.Size([10, 1, 28, 28]) torch.Size([10])\n"
          ],
          "name": "stdout"
        }
      ]
    },
    {
      "cell_type": "code",
      "metadata": {
        "id": "5g_1VsnWEq7L"
      },
      "source": [
        ""
      ],
      "execution_count": null,
      "outputs": []
    },
    {
      "cell_type": "markdown",
      "metadata": {
        "id": "Qw5dgKgYE6XB"
      },
      "source": [
        "## Building a CNN \r\n",
        "\r\n",
        "\r\n",
        "*   Make a model class (FashionCNN in our case)\r\n",
        "    * It inherit nn.Module class that is a super class for all the neural networks in Pytorch.\r\n",
        "* Our Neural Net has following layers:\r\n",
        "    * Two Sequential layers each consists of following layers-\r\n",
        "        * Convolution layer that has kernel size of 3 * 3, padding = 1 (zero_padding) in 1st layer and padding = 0 in second one. Stride of 1 in both layer.\r\n",
        "        * Batch Normalization layer.\r\n",
        "        * Acitvation function: ReLU.\r\n",
        "        * Max Pooling layer with kernel size of 2 * 2 and stride 2.\r\n",
        "     * Flatten out the output for dense layer(a.k.a. fully connected layer).\r\n",
        "     * 3 Fully connected layer  with different in/out features.\r\n",
        "     * 1 Dropout layer that has class probability p = 0.25.\r\n",
        "  \r\n",
        "     * All the functionaltiy is given in forward method that defines the forward pass of CNN.\r\n",
        "     * Our input image is changing in a following way:\r\n",
        "        * First Convulation layer : input: 28 \\* 28 \\* 3, output: 28 \\* 28 \\* 32\r\n",
        "        * First Max Pooling layer : input: 28 \\* 28 \\* 32, output: 14 \\* 14 \\* 32\r\n",
        "        * Second Conv layer : input : 14 \\* 14 \\* 32, output: 12 \\* 12 \\* 64\r\n",
        "        * Second Max Pooling layer : 12 \\* 12 \\* 64, output:  6 \\* 6 \\* 64\r\n",
        "    * Final fully connected layer has 10 output features for 10 types of clothes.\r\n",
        "\r\n",
        "> Lets implementing the network...\r\n",
        "\r\n"
      ]
    },
    {
      "cell_type": "code",
      "metadata": {
        "id": "ZQSKSaqhE6_M"
      },
      "source": [
        "class FashionCNN(nn.Module):\r\n",
        "    \r\n",
        "    def __init__(self):\r\n",
        "        super(FashionCNN, self).__init__()\r\n",
        "        \r\n",
        "        self.layer1 = nn.Sequential(\r\n",
        "            nn.Conv2d(in_channels=1, out_channels=32, kernel_size=3, padding=1),\r\n",
        "            nn.BatchNorm2d(32),\r\n",
        "            nn.ReLU(),\r\n",
        "            nn.MaxPool2d(kernel_size=2, stride=2)\r\n",
        "        )\r\n",
        "        \r\n",
        "        self.layer2 = nn.Sequential(\r\n",
        "            nn.Conv2d(in_channels=32, out_channels=64, kernel_size=3),\r\n",
        "            nn.BatchNorm2d(64),\r\n",
        "            nn.ReLU(),\r\n",
        "            nn.MaxPool2d(2)\r\n",
        "        )\r\n",
        "        \r\n",
        "        self.fc1 = nn.Linear(in_features=64*6*6, out_features=600)\r\n",
        "        self.drop = nn.Dropout2d(0.25)\r\n",
        "        self.fc2 = nn.Linear(in_features=600, out_features=120)\r\n",
        "        self.fc3 = nn.Linear(in_features=120, out_features=10)\r\n",
        "        \r\n",
        "    def forward(self, x):\r\n",
        "        out = self.layer1(x)\r\n",
        "        out = self.layer2(out)\r\n",
        "        out = out.view(out.size(0), -1)\r\n",
        "        out = self.fc1(out)\r\n",
        "        out = self.drop(out)\r\n",
        "        out = self.fc2(out)\r\n",
        "        out = self.fc3(out)\r\n",
        "        \r\n",
        "        return out\r\n"
      ],
      "execution_count": null,
      "outputs": []
    },
    {
      "cell_type": "code",
      "metadata": {
        "colab": {
          "base_uri": "https://localhost:8080/"
        },
        "id": "XW4FeMACFChH",
        "outputId": "5847490e-d3a2-4953-8581-a7fa104c3b80"
      },
      "source": [
        "model = FashionCNN()\r\n",
        "model.to(device)\r\n",
        "\r\n",
        "error = nn.CrossEntropyLoss()\r\n",
        "\r\n",
        "learning_rate = 0.001\r\n",
        "optimizer = torch.optim.Adam(model.parameters(), lr=learning_rate)\r\n",
        "print(model)"
      ],
      "execution_count": null,
      "outputs": [
        {
          "output_type": "stream",
          "text": [
            "FashionCNN(\n",
            "  (layer1): Sequential(\n",
            "    (0): Conv2d(1, 32, kernel_size=(3, 3), stride=(1, 1), padding=(1, 1))\n",
            "    (1): BatchNorm2d(32, eps=1e-05, momentum=0.1, affine=True, track_running_stats=True)\n",
            "    (2): ReLU()\n",
            "    (3): MaxPool2d(kernel_size=2, stride=2, padding=0, dilation=1, ceil_mode=False)\n",
            "  )\n",
            "  (layer2): Sequential(\n",
            "    (0): Conv2d(32, 64, kernel_size=(3, 3), stride=(1, 1))\n",
            "    (1): BatchNorm2d(64, eps=1e-05, momentum=0.1, affine=True, track_running_stats=True)\n",
            "    (2): ReLU()\n",
            "    (3): MaxPool2d(kernel_size=2, stride=2, padding=0, dilation=1, ceil_mode=False)\n",
            "  )\n",
            "  (fc1): Linear(in_features=2304, out_features=600, bias=True)\n",
            "  (drop): Dropout2d(p=0.25, inplace=False)\n",
            "  (fc2): Linear(in_features=600, out_features=120, bias=True)\n",
            "  (fc3): Linear(in_features=120, out_features=10, bias=True)\n",
            ")\n"
          ],
          "name": "stdout"
        }
      ]
    },
    {
      "cell_type": "code",
      "metadata": {
        "colab": {
          "base_uri": "https://localhost:8080/"
        },
        "id": "97CcjxweFJl0",
        "outputId": "feb1fccb-cf03-4d6a-8e21-829ac638a7d7"
      },
      "source": [
        "## training and Testing\r\n",
        "num_epochs = 5\r\n",
        "count = 0\r\n",
        "# Lists for visualization of loss and accuracy \r\n",
        "loss_list = []\r\n",
        "iteration_list = []\r\n",
        "accuracy_list = []\r\n",
        "\r\n",
        "# Lists for knowing classwise accuracy\r\n",
        "predictions_list = []\r\n",
        "labels_list = []\r\n",
        "\r\n",
        "for epoch in range(num_epochs):\r\n",
        "    for images, labels in train_loader:\r\n",
        "        # Transfering images and labels to GPU if available\r\n",
        "        images, labels = images.to(device), labels.to(device)\r\n",
        "    \r\n",
        "        train = Variable(images.view(100, 1, 28, 28))\r\n",
        "        labels = Variable(labels)\r\n",
        "        \r\n",
        "        # Forward pass \r\n",
        "        outputs = model(train)\r\n",
        "        loss = error(outputs, labels)\r\n",
        "        \r\n",
        "        # Initializing a gradient as 0 so there is no mixing of gradient among the batches\r\n",
        "        optimizer.zero_grad()\r\n",
        "        \r\n",
        "        #Propagating the error backward\r\n",
        "        loss.backward()\r\n",
        "        \r\n",
        "        # Optimizing the parameters\r\n",
        "        optimizer.step()\r\n",
        "    \r\n",
        "        count += 1\r\n",
        "    \r\n",
        "    # Testing the model\r\n",
        "    \r\n",
        "        if not (count % 50):    # It's same as \"if count % 50 == 0\"\r\n",
        "            total = 0\r\n",
        "            correct = 0\r\n",
        "        \r\n",
        "            for images, labels in test_loader:\r\n",
        "                images, labels = images.to(device), labels.to(device)\r\n",
        "                labels_list.append(labels)\r\n",
        "            \r\n",
        "                test = Variable(images.view(100, 1, 28, 28))\r\n",
        "            \r\n",
        "                outputs = model(test)\r\n",
        "            \r\n",
        "                predictions = torch.max(outputs, 1)[1].to(device)\r\n",
        "                predictions_list.append(predictions)\r\n",
        "                correct += (predictions == labels).sum()\r\n",
        "            \r\n",
        "                total += len(labels)\r\n",
        "            \r\n",
        "            accuracy = correct * 100 / total\r\n",
        "            loss_list.append(loss.data)\r\n",
        "            iteration_list.append(count)\r\n",
        "            accuracy_list.append(accuracy)\r\n",
        "        \r\n",
        "        if not (count % 500):\r\n",
        "            print(\"Iteration: {}, Loss: {}, Accuracy: {}%\".format(count, loss.data, accuracy))\r\n"
      ],
      "execution_count": null,
      "outputs": [
        {
          "output_type": "stream",
          "text": [
            "Iteration: 500, Loss: 0.4601171612739563, Accuracy: 87.37000274658203%\n",
            "Iteration: 1000, Loss: 0.3674651086330414, Accuracy: 87.41999816894531%\n",
            "Iteration: 1500, Loss: 0.2921752631664276, Accuracy: 88.58999633789062%\n",
            "Iteration: 2000, Loss: 0.18199115991592407, Accuracy: 89.06999969482422%\n",
            "Iteration: 2500, Loss: 0.14259761571884155, Accuracy: 89.70999908447266%\n",
            "Iteration: 3000, Loss: 0.15648917853832245, Accuracy: 90.0199966430664%\n"
          ],
          "name": "stdout"
        }
      ]
    },
    {
      "cell_type": "code",
      "metadata": {
        "id": "XdIKndy9FUC7"
      },
      "source": [
        ""
      ],
      "execution_count": null,
      "outputs": []
    },
    {
      "cell_type": "code",
      "metadata": {
        "id": "OGjTTwSxEkPZ"
      },
      "source": [
        ""
      ],
      "execution_count": null,
      "outputs": []
    }
  ]
}